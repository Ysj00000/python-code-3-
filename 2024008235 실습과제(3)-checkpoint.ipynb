{
 "cells": [
  {
   "cell_type": "code",
   "execution_count": 2,
   "id": "e783c54c",
   "metadata": {},
   "outputs": [
    {
     "name": "stdout",
     "output_type": "stream",
     "text": [
      "숫자 두개를 입력해주세요12 0\n",
      "0으로 나눌 수 없으니 다른값을 입력해주세요\n"
     ]
    }
   ],
   "source": [
    "try:\n",
    "    a,b = map(int, input(\"숫자 두개를 입력해주세요\").split())\n",
    "    c = a/b\n",
    "except ValueError:\n",
    "    print(\"입력한 숫자를 확인해주세요\")\n",
    "except ZeroDivisionError:\n",
    "    print(\"0으로 나눌 수 없으니 다른값을 입력해주세요\")\n",
    "else:\n",
    "    print(f'{a}/{b} = {c}')"
   ]
  },
  {
   "cell_type": "code",
   "execution_count": null,
   "id": "cbf6d4f1",
   "metadata": {},
   "outputs": [],
   "source": [
    "try:\n",
    "    a,b = map(int, input(\"숫자 두개를 입력해주세요\").split())\n",
    "    c = a/b"
   ]
  },
  {
   "cell_type": "markdown",
   "id": "789e199c",
   "metadata": {},
   "source": [
    ">>a와 b의 입력값을 받고 a/b를 게산한다."
   ]
  },
  {
   "cell_type": "code",
   "execution_count": null,
   "id": "09fc0200",
   "metadata": {},
   "outputs": [],
   "source": [
    "except ValueError:\n",
    "    print(\"입력한 숫자를 확인해주세요\")"
   ]
  },
  {
   "cell_type": "markdown",
   "id": "dcb43aef",
   "metadata": {},
   "source": [
    ">>value error 가 발생할 경우에 입력값이 올바르지 않다는 문구를 출력한다."
   ]
  },
  {
   "cell_type": "code",
   "execution_count": null,
   "id": "4cb49cc5",
   "metadata": {},
   "outputs": [],
   "source": [
    "except ZeroDivisionError:\n",
    "    print(\"0으로 나눌 수 없으니 다른값을 입력해주세요\") "
   ]
  },
  {
   "cell_type": "markdown",
   "id": "50aa8d0f",
   "metadata": {},
   "source": [
    ">>ZeroDivisionError가 발생할 경우에 0으로 나누기를 할 수 없다는 문구를 출력한다."
   ]
  }
 ],
 "metadata": {
  "kernelspec": {
   "display_name": "Python 3 (ipykernel)",
   "language": "python",
   "name": "python3"
  },
  "language_info": {
   "codemirror_mode": {
    "name": "ipython",
    "version": 3
   },
   "file_extension": ".py",
   "mimetype": "text/x-python",
   "name": "python",
   "nbconvert_exporter": "python",
   "pygments_lexer": "ipython3",
   "version": "3.9.12"
  }
 },
 "nbformat": 4,
 "nbformat_minor": 5
}
